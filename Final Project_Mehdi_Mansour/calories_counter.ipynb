{
 "cells": [
  {
   "cell_type": "code",
   "execution_count": 1,
   "metadata": {},
   "outputs": [
    {
     "name": "stdout",
     "output_type": "stream",
     "text": [
      "600\n"
     ]
    }
   ],
   "source": [
    "calories = {\n",
    "   'Hamburger': 600,\n",
    "   'Cheese Burger': 750,\n",
    "   'Veggie Burger': 400,\n",
    "   'Vegan Burger': 350,\n",
    "   'Sweet Potatoes': 230,\n",
    "   'Salad': 15,\n",
    "   'Iced Tea': 70,\n",
    "   'Lemonade': 90,\n",
    "}\n",
    "\n",
    "print(calories.get(\"Hamburger\"))"
   ]
  },
  {
   "cell_type": "code",
   "execution_count": 4,
   "metadata": {},
   "outputs": [
    {
     "name": "stdout",
     "output_type": "stream",
     "text": [
      "you had a Hamburger which has 600 calories\n",
      "total calories is 600\n"
     ]
    }
   ],
   "source": [
    "#user input\n",
    "food_input = input (\"What did you eat? Use comma to list the items\")\n",
    "#creates a list of food items\n",
    "user_food_list = food_input.split(\",\")\n",
    "for item in user_food_list:\n",
    "        print (\"you had a \" + item + \" which has \" + str(calories.get(item.strip())) + \" calories\")\n",
    "\n",
    "#a function that takes one variable (list)\n",
    "def food_list (food):\n",
    "    #an empty list of food calories\n",
    "    cal_list = []\n",
    "    #for each food item listed by the user\n",
    "    for item in food:\n",
    "        #.strip() deletes spaces, to match the key in calories dic\n",
    "        if item.strip() in calories:\n",
    "            #pulls the value of the key using .get\n",
    "            cal_list.append(calories.get(item.strip()))\n",
    "\n",
    "    tot_cals = sum(cal_list)\n",
    "    print (\"total calories is \" + str(tot_cals))\n",
    "\n",
    "food_list(user_food_list)\n",
    "\n",
    "\n",
    "\n",
    "\n",
    "\n",
    "\n"
   ]
  },
  {
   "cell_type": "code",
   "execution_count": 5,
   "metadata": {},
   "outputs": [],
   "source": [
    "combos = {\n",
    "    \"Cheesy Combo\" : [\"Cheese Burger\", \"Sweet Potatoes\", \"Lemonade\"],\n",
    "    \"Veggie Combo\" : [\"Veggie Burger\", \"Sweet Potatoes\", \"Iced Tea\"],\n",
    "    \"Vegan Combo\" : [\"Vegan Burger\", \"Salad\", \"Lemonade\"],\n",
    "}"
   ]
  },
  {
   "cell_type": "code",
   "execution_count": 6,
   "metadata": {},
   "outputs": [
    {
     "name": "stdout",
     "output_type": "stream",
     "text": [
      "Cheesy Combo\n",
      "1070\n"
     ]
    }
   ],
   "source": [
    "eat = input (\"what did you eat?\")\n",
    "eat_list = eat.split(\",\")\n",
    "print(eat_list[0])\n",
    "\n",
    "eat2 = combos.get(eat_list[0].strip())\n",
    "cals2 = []\n",
    "for item in eat2:\n",
    "    if item in calories:\n",
    "        cals2.append(calories.get(item.strip()))\n",
    "\n",
    "total_calories = sum(cals2)\n",
    "print(total_calories)\n",
    "\n",
    "\n",
    "#print(eat2)"
   ]
  },
  {
   "cell_type": "code",
   "execution_count": 7,
   "metadata": {},
   "outputs": [
    {
     "name": "stdout",
     "output_type": "stream",
     "text": [
      "['Cheesy combo']\n",
      "this is combo list[]\n",
      "0\n",
      "0\n"
     ]
    }
   ],
   "source": [
    "#user input\n",
    "food_input = input (\"What did you eat? Use comma to list the items\")\n",
    "#creates a list of food items\n",
    "user_food_list = food_input.split(\",\")\n",
    "print(user_food_list)\n",
    "#for item in user_food_list:\n",
    "   # if item in combos:\n",
    "        #print (\"you had a \" + item + \" which includes \" + ', '.join(z))\n",
    "    #else:\n",
    "       # print (\"you had a \" + item + \" which has \" + str(calories.get(item.strip())) + \" calories\")\n",
    "\n",
    "cal_list = []\n",
    "combo_list = []\n",
    "combo_totcals = []\n",
    "#a function that takes one variable (list)\n",
    "def food_list (food):\n",
    "    #an empty list of food calories\n",
    "\n",
    "    #for each food item listed by the user\n",
    "    for item in food:\n",
    "        #.strip() deletes spaces, to match the key in calories dic\n",
    "        if item.strip() in calories:\n",
    "            #pulls the value of the key using .get\n",
    "            cal_list.append(calories.get(item.strip()))\n",
    "        elif item.strip() in combos:\n",
    "            print (item.strip())\n",
    "            combo_list.append(combos.get(item.strip()))\n",
    "            print(combo_list)\n",
    "\n",
    "    \n",
    "\n",
    "   \n",
    "    #print (\"total calories is \" + str(tot_cals))\n",
    "\n",
    "food_list(user_food_list)\n",
    "print(\"this is combo list\" + str(combo_list))\n",
    "\n",
    "\n",
    "def combo_cals(food2):\n",
    "    for item in food2:\n",
    "        if item.strip() in calories:\n",
    "            cal_list.append(calories.get(item.strip()))\n",
    "            combo_totcals.append(calories.get(item.strip()))\n",
    "            print(combo_totcals)\n",
    "\n",
    "\n",
    "combo_cals(combo_list)\n",
    "\n",
    "\n",
    "tot_cals2 = sum(cal_list)\n",
    "print(tot_cals2)\n",
    "\n",
    "y = sum(combo_totcals)\n",
    "\n",
    "print(y)\n",
    "\n",
    "\n"
   ]
  },
  {
   "cell_type": "code",
   "execution_count": 8,
   "metadata": {},
   "outputs": [
    {
     "name": "stdout",
     "output_type": "stream",
     "text": [
      "10\n",
      "13\n",
      "17\n",
      "3\n",
      "5\n",
      "1\n",
      "13\n",
      "11\n",
      "12\n"
     ]
    }
   ],
   "source": [
    "for myList in [[10,13,17],[3,5,1],[13,11,12]]:\n",
    "    for item in myList:\n",
    "        print(item)"
   ]
  },
  {
   "cell_type": "code",
   "execution_count": null,
   "metadata": {},
   "outputs": [],
   "source": []
  }
 ],
 "metadata": {
  "kernelspec": {
   "display_name": "base",
   "language": "python",
   "name": "python3"
  },
  "language_info": {
   "codemirror_mode": {
    "name": "ipython",
    "version": 3
   },
   "file_extension": ".py",
   "mimetype": "text/x-python",
   "name": "python",
   "nbconvert_exporter": "python",
   "pygments_lexer": "ipython3",
   "version": "3.11.5"
  },
  "orig_nbformat": 4
 },
 "nbformat": 4,
 "nbformat_minor": 2
}
