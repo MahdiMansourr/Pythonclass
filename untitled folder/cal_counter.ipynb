{
 "cells": [
  {
   "cell_type": "code",
   "execution_count": 3,
   "metadata": {},
   "outputs": [
    {
     "data": {
      "text/plain": [
       "600"
      ]
     },
     "execution_count": 3,
     "metadata": {},
     "output_type": "execute_result"
    }
   ],
   "source": [
    "calories = {\n",
    "   'Hamburger': 600,\n",
    "   'Cheese Burger': 750,\n",
    "   'Veggie Burger': 400,\n",
    "   'Vegan Burger': 350,\n",
    "   'Sweet Potatoes': 230,\n",
    "   'Salad': 15,\n",
    "   'Iced Tea': 70,\n",
    "   'Lemonade': 90,\n",
    "}\n",
    "\n",
    "calories[\"Hamburger\"]\n",
    "# print(calories.get(\"Lemonade\") + calories.get(\"Salad\"))"
   ]
  },
  {
   "cell_type": "code",
   "execution_count": 7,
   "metadata": {},
   "outputs": [
    {
     "data": {
      "text/plain": [
       "1525"
      ]
     },
     "execution_count": 7,
     "metadata": {},
     "output_type": "execute_result"
    }
   ],
   "source": [
    "combos = {\n",
    "    \"Cheesy Combo\" : [\"Cheese Burger\", \"Sweet Potatoes\", \"Lemonade\"],\n",
    "    \"Veggie Combo\" : [\"Veggie Burger\", \"Sweet Potatoes\", \"Iced Tea\"],\n",
    "    \"Combo1\" : [\"Vegan Burger\", \"Salad\", \"Lemonade\"],\n",
    "}\n",
    "\n",
    "def combocal(*order): \n",
    "    totalcal=0\n",
    "    for combo in order:\n",
    "        for meal in combos[combo]: #the computer will call out the meal from each combo\n",
    "            totalcal+= calories[meal]\n",
    "    return  totalcal\n",
    "\n",
    "combocal(\"Combo1\", 'Cheesy Combo') #if I am not outting a star in the function, i need to put a [] bcz combo1 is a list\n",
    "\n",
    "\n"
   ]
  },
  {
   "cell_type": "code",
   "execution_count": 10,
   "metadata": {},
   "outputs": [
    {
     "data": {
      "text/plain": [
       "1525"
      ]
     },
     "execution_count": 10,
     "metadata": {},
     "output_type": "execute_result"
    }
   ],
   "source": [
    "ombos = {\n",
    "    \"Cheesy Combo\" : [\"Cheese Burger\", \"Sweet Potatoes\", \"Lemonade\"],\n",
    "    \"Veggie Combo\" : [\"Veggie Burger\", \"Sweet Potatoes\", \"Iced Tea\"],\n",
    "    \"Combo1\" : [\"Vegan Burger\", \"Salad\", \"Lemonade\"],\n",
    "}\n",
    "\n",
    "def combocal(*order): \n",
    "    totalcal=0\n",
    "    for combo in order:\n",
    "        for meal in combos[combo]: #the computer will call out the meal from each combo\n",
    "            totalcal+= calories[meal]\n",
    "    return  totalcal\n",
    "\n",
    "input1 = input(\"zhqt do you zqnt to order?\")\n",
    "combocal(*input1.split(\",\")) #if I am not outting a star in the function, i need to put a [] bcz combo1 is a list\n",
    "\n",
    "\n"
   ]
  },
  {
   "cell_type": "code",
   "execution_count": 23,
   "metadata": {},
   "outputs": [
    {
     "name": "stdout",
     "output_type": "stream",
     "text": [
      "you had a Hamburger which has 600 calories\n",
      "you had a  Lemonade which has 90 calories\n"
     ]
    }
   ],
   "source": [
    "#user input\n",
    "food_input = input (\"What did you eat? Use comma to list the items\")\n",
    "#creates a list of food items\n",
    "user_food_list = food_input.split(\",\")\n",
    "for item in user_food_list:\n",
    "        print (\"you had a \" + item + \" which has \" + str(calories[item.strip()]) + \" calories\")"
   ]
  },
  {
   "cell_type": "code",
   "execution_count": 4,
   "metadata": {},
   "outputs": [
    {
     "name": "stdout",
     "output_type": "stream",
     "text": [
      "you had a Hamburger which has 600 calories\n",
      "total calories is 600\n"
     ]
    }
   ],
   "source": [
    "#user input\n",
    "food_input = input (\"What did you eat? Use comma to list the items\")\n",
    "#creates a list of food items\n",
    "user_food_list = food_input.split(\",\")\n",
    "for item in user_food_list:\n",
    "        print (\"you had a \" + item + \" which has \" + str(calories.get(item.strip())) + \" calories\")\n",
    "\n",
    "#a function that takes one variable (list)\n",
    "def food_list (food):\n",
    "    #an empty list of food calories\n",
    "    cal_list = []\n",
    "    #for each food item listed by the user\n",
    "    for meal in food:\n",
    "        #.strip() deletes spaces, to match the key in calories dic\n",
    "        if meal.strip() in calories:\n",
    "            #pulls the value of the key using .get\n",
    "            cal_list.append(calories.get(meal.strip()))\n",
    "\n",
    "    tot_cals = sum(cal_list)\n",
    "    print (\"total calories is \" + str(tot_cals))\n",
    "\n",
    "food_list(user_food_list)\n",
    "\n"
   ]
  },
  {
   "cell_type": "code",
   "execution_count": 30,
   "metadata": {},
   "outputs": [
    {
     "data": {
      "text/plain": [
       "690"
      ]
     },
     "execution_count": 30,
     "metadata": {},
     "output_type": "execute_result"
    }
   ],
   "source": [
    "def count(orderedmeals):\n",
    "    totalcalories = 0\n",
    "    for meal in orderedmeals:\n",
    "        totalcalories += calories[meal]\n",
    "    return totalcalories\n",
    "\n",
    "count(['Hamburger', 'Lemonade'])\n"
   ]
  },
  {
   "cell_type": "code",
   "execution_count": 70,
   "metadata": {},
   "outputs": [],
   "source": [
    "combos = {\n",
    "    \"Cheesy Combo\" : [\"Cheese Burger\", \"Sweet Potatoes\", \"Lemonade\"],\n",
    "    \"Veggie Combo\" : [\"Veggie Burger\", \"Sweet Potatoes\", \"Iced Tea\"],\n",
    "    \"Vegan Combo\" : [\"Vegan Burger\", \"Salad\", \"Lemonade\"],\n",
    "}"
   ]
  },
  {
   "cell_type": "code",
   "execution_count": 98,
   "metadata": {},
   "outputs": [
    {
     "name": "stdout",
     "output_type": "stream",
     "text": [
      "Cheesy Combo\n",
      "1070\n"
     ]
    }
   ],
   "source": [
    "eat = input (\"what did you eat?\")\n",
    "eat_list = eat.split(\",\")\n",
    "print(eat_list[0])\n",
    "\n",
    "eat2 = combos.get(eat_list[0].strip())\n",
    "cals2 = []\n",
    "for item in eat2:\n",
    "    if item in calories:\n",
    "        cals2.append(calories.get(item.strip()))\n",
    "\n",
    "total_calories = sum(cals2)\n",
    "print(total_calories)\n",
    "\n",
    "\n",
    "#print(eat2)"
   ]
  },
  {
   "cell_type": "code",
   "execution_count": 1,
   "metadata": {},
   "outputs": [
    {
     "name": "stdout",
     "output_type": "stream",
     "text": [
      "['Hamburger', ' Cheesy Combo']\n"
     ]
    },
    {
     "ename": "NameError",
     "evalue": "name 'calories' is not defined",
     "output_type": "error",
     "traceback": [
      "\u001b[0;31m---------------------------------------------------------------------------\u001b[0m",
      "\u001b[0;31mNameError\u001b[0m                                 Traceback (most recent call last)",
      "\u001b[1;32m/Users/tnouneh/Sidebar/School/Python/true/cal_counter.ipynb Cell 5\u001b[0m line \u001b[0;36m3\n\u001b[1;32m     <a href='vscode-notebook-cell:/Users/tnouneh/Sidebar/School/Python/true/cal_counter.ipynb#W4sZmlsZQ%3D%3D?line=27'>28</a>\u001b[0m             \u001b[39mprint\u001b[39m(combo_list)\n\u001b[1;32m     <a href='vscode-notebook-cell:/Users/tnouneh/Sidebar/School/Python/true/cal_counter.ipynb#W4sZmlsZQ%3D%3D?line=32'>33</a>\u001b[0m     \u001b[39m#print (\"total calories is \" + str(tot_cals))\u001b[39;00m\n\u001b[0;32m---> <a href='vscode-notebook-cell:/Users/tnouneh/Sidebar/School/Python/true/cal_counter.ipynb#W4sZmlsZQ%3D%3D?line=34'>35</a>\u001b[0m food_list(user_food_list)\n\u001b[1;32m     <a href='vscode-notebook-cell:/Users/tnouneh/Sidebar/School/Python/true/cal_counter.ipynb#W4sZmlsZQ%3D%3D?line=35'>36</a>\u001b[0m \u001b[39mprint\u001b[39m(\u001b[39m\"\u001b[39m\u001b[39mthis is combo list\u001b[39m\u001b[39m\"\u001b[39m \u001b[39m+\u001b[39m \u001b[39mstr\u001b[39m(combo_list))\n\u001b[1;32m     <a href='vscode-notebook-cell:/Users/tnouneh/Sidebar/School/Python/true/cal_counter.ipynb#W4sZmlsZQ%3D%3D?line=38'>39</a>\u001b[0m \u001b[39mdef\u001b[39;00m \u001b[39mcombo_cals\u001b[39m(food2):\n",
      "\u001b[1;32m/Users/tnouneh/Sidebar/School/Python/true/cal_counter.ipynb Cell 5\u001b[0m line \u001b[0;36m2\n\u001b[1;32m     <a href='vscode-notebook-cell:/Users/tnouneh/Sidebar/School/Python/true/cal_counter.ipynb#W4sZmlsZQ%3D%3D?line=15'>16</a>\u001b[0m \u001b[39mdef\u001b[39;00m \u001b[39mfood_list\u001b[39m (food):\n\u001b[1;32m     <a href='vscode-notebook-cell:/Users/tnouneh/Sidebar/School/Python/true/cal_counter.ipynb#W4sZmlsZQ%3D%3D?line=16'>17</a>\u001b[0m     \u001b[39m#an empty list of food calories\u001b[39;00m\n\u001b[1;32m     <a href='vscode-notebook-cell:/Users/tnouneh/Sidebar/School/Python/true/cal_counter.ipynb#W4sZmlsZQ%3D%3D?line=17'>18</a>\u001b[0m \n\u001b[1;32m     <a href='vscode-notebook-cell:/Users/tnouneh/Sidebar/School/Python/true/cal_counter.ipynb#W4sZmlsZQ%3D%3D?line=18'>19</a>\u001b[0m     \u001b[39m#for each food item listed by the user\u001b[39;00m\n\u001b[1;32m     <a href='vscode-notebook-cell:/Users/tnouneh/Sidebar/School/Python/true/cal_counter.ipynb#W4sZmlsZQ%3D%3D?line=19'>20</a>\u001b[0m     \u001b[39mfor\u001b[39;00m item \u001b[39min\u001b[39;00m food:\n\u001b[1;32m     <a href='vscode-notebook-cell:/Users/tnouneh/Sidebar/School/Python/true/cal_counter.ipynb#W4sZmlsZQ%3D%3D?line=20'>21</a>\u001b[0m         \u001b[39m#.strip() deletes spaces, to match the key in calories dic\u001b[39;00m\n\u001b[0;32m---> <a href='vscode-notebook-cell:/Users/tnouneh/Sidebar/School/Python/true/cal_counter.ipynb#W4sZmlsZQ%3D%3D?line=21'>22</a>\u001b[0m         \u001b[39mif\u001b[39;00m item\u001b[39m.\u001b[39mstrip() \u001b[39min\u001b[39;00m calories:\n\u001b[1;32m     <a href='vscode-notebook-cell:/Users/tnouneh/Sidebar/School/Python/true/cal_counter.ipynb#W4sZmlsZQ%3D%3D?line=22'>23</a>\u001b[0m             \u001b[39m#pulls the value of the key using .get\u001b[39;00m\n\u001b[1;32m     <a href='vscode-notebook-cell:/Users/tnouneh/Sidebar/School/Python/true/cal_counter.ipynb#W4sZmlsZQ%3D%3D?line=23'>24</a>\u001b[0m             cal_list\u001b[39m.\u001b[39mappend(calories\u001b[39m.\u001b[39mget(item\u001b[39m.\u001b[39mstrip()))\n\u001b[1;32m     <a href='vscode-notebook-cell:/Users/tnouneh/Sidebar/School/Python/true/cal_counter.ipynb#W4sZmlsZQ%3D%3D?line=24'>25</a>\u001b[0m         \u001b[39melif\u001b[39;00m item\u001b[39m.\u001b[39mstrip() \u001b[39min\u001b[39;00m combos:\n",
      "\u001b[0;31mNameError\u001b[0m: name 'calories' is not defined"
     ]
    }
   ],
   "source": [
    "#user input\n",
    "food_input = input (\"What did you eat? Use comma to list the items\")\n",
    "#creates a list of food items\n",
    "user_food_list = food_input.split(\",\")\n",
    "print(user_food_list)\n",
    "#for item in user_food_list:\n",
    "   # if item in combos:\n",
    "        #print (\"you had a \" + item + \" which includes \" + ', '.join(z))\n",
    "    #else:\n",
    "       # print (\"you had a \" + item + \" which has \" + str(calories.get(item.strip())) + \" calories\")\n",
    "\n",
    "cal_list = []\n",
    "combo_list = []\n",
    "combo_totcals = []\n",
    "#a function that takes one variable (list)\n",
    "def food_list (food):\n",
    "    #an empty list of food calories\n",
    "\n",
    "    #for each food item listed by the user\n",
    "    for item in food:\n",
    "        #.strip() deletes spaces, to match the key in calories dic\n",
    "        if item.strip() in calories:\n",
    "            #pulls the value of the key using .get\n",
    "            cal_list.append(calories.get(item.strip()))\n",
    "        elif item.strip() in combos:\n",
    "            print (item.strip())\n",
    "            combo_list.append(combos.get(item.strip()))\n",
    "            print(combo_list)\n",
    "\n",
    "    \n",
    "\n",
    "   \n",
    "    #print (\"total calories is \" + str(tot_cals))\n",
    "\n",
    "food_list(user_food_list)\n",
    "print(\"this is combo list\" + str(combo_list))\n",
    "\n",
    "\n",
    "def combo_cals(food2):\n",
    "    for item in food2:\n",
    "        if item.strip() in calories:\n",
    "            cal_list.append(calories.get(item.strip()))\n",
    "            combo_totcals.append(calories.get(item.strip()))\n",
    "            print(combo_totcals)\n",
    "\n",
    "\n",
    "combo_cals(combo_list)\n",
    "\n",
    "\n",
    "tot_cals2 = sum(cal_list)\n",
    "print(tot_cals2)\n",
    "\n",
    "y = sum(combo_totcals)\n",
    "\n",
    "print(y)\n",
    "\n",
    "\n"
   ]
  },
  {
   "cell_type": "code",
   "execution_count": 113,
   "metadata": {},
   "outputs": [
    {
     "name": "stdout",
     "output_type": "stream",
     "text": [
      "10\n",
      "13\n",
      "17\n",
      "3\n",
      "5\n",
      "1\n",
      "13\n",
      "11\n",
      "12\n"
     ]
    }
   ],
   "source": [
    "for myList in [[10,13,17],[3,5,1],[13,11,12]]:\n",
    "    for item in myList:\n",
    "        print(item)"
   ]
  },
  {
   "cell_type": "code",
   "execution_count": 16,
   "metadata": {},
   "outputs": [
    {
     "name": "stdout",
     "output_type": "stream",
     "text": [
      "The youngest child is Tobias\n"
     ]
    }
   ],
   "source": [
    "def my_function(*kids):\n",
    "  print(\"The youngest child is \" + kids[1])\n",
    "\n",
    "my_function(\"Emil\", \"Tobias\", \"Linus\")\n"
   ]
  }
 ],
 "metadata": {
  "kernelspec": {
   "display_name": "base",
   "language": "python",
   "name": "python3"
  },
  "language_info": {
   "codemirror_mode": {
    "name": "ipython",
    "version": 3
   },
   "file_extension": ".py",
   "mimetype": "text/x-python",
   "name": "python",
   "nbconvert_exporter": "python",
   "pygments_lexer": "ipython3",
   "version": "3.11.5"
  },
  "orig_nbformat": 4
 },
 "nbformat": 4,
 "nbformat_minor": 2
}
