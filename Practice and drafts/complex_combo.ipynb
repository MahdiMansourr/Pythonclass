{
 "cells": [
  {
   "cell_type": "code",
   "execution_count": 2,
   "metadata": {},
   "outputs": [],
   "source": [
    "meals = [\n",
    "    {\n",
    "        \"id\": \"meal-1\",\n",
    "        \"name\": \"hamburger\",\n",
    "        \"calories\": 600,\n",
    "        \"price\": 5\n",
    "    },\n",
    "    {\n",
    "        \"id\": \"meal-2\",\n",
    "        \"name\": \"cheese burger\",\n",
    "        \"calories\": 750,\n",
    "        \"price\": 7\n",
    "\t\t},\n",
    "    {\n",
    "        \"id\": \"meal-3\",\n",
    "        \"name\": \"veggie burger\",\n",
    "        \"calories\": 400,\n",
    "        \"price\": 6\n",
    "\t\t},\n",
    "    {\n",
    "        \"id\": \"meal-4\",\n",
    "        \"name\": \"vegan burger\",\n",
    "        \"calories\": 350,\n",
    "        \"price\": 6\n",
    "\t\t},\n",
    "    {\n",
    "        \"id\": \"meal-5\",\n",
    "        \"name\": \"sweet potatoes\",\n",
    "        \"calories\": 230,\n",
    "        \"price\": 3\n",
    "\t\t},\n",
    "    {\n",
    "        \"id\": \"meal-6\",\n",
    "        \"name\": \"salad\",\n",
    "        \"calories\": 15,\n",
    "        \"price\": 4\n",
    "\t\t},\n",
    "    {\n",
    "        \"id\": \"meal-7\",\n",
    "        \"name\": \"iced tea\",\n",
    "        \"calories\": 70,\n",
    "        \"price\": 2\n",
    "\t\t},\n",
    "    {\n",
    "        \"id\": \"meal-8\",\n",
    "        \"name\": \"lemonade\",\n",
    "        \"calories\": 90,\n",
    "        \"price\": 2\n",
    "\t\t}\n",
    "]\n",
    "\n",
    "combos = [\n",
    "    {\n",
    "        \"id\": \"combo-1\",\n",
    "        \"name\": \"cheesy combo\",\n",
    "        \"meals\": [\"meal-2\", \"meal-5\", \"meal-8\"],\n",
    "        \"price\": 11,\n",
    "    },\n",
    "    {\n",
    "        \"id\": \"combo-2\",\n",
    "        \"name\": \"veggie combo\",\n",
    "        \"meals\": [\"meal-3\", \"meal-5\", \"meal-7\"],\n",
    "        \"price\": 10,\n",
    "    },\n",
    "    {\n",
    "        \"id\": \"combo-3\",\n",
    "        \"name\": \"vegan combo\",\n",
    "        \"meals\": [\"meal-4\", \"meal-6\", \"meal-8\"],\n",
    "        \"price\": 10,\n",
    "    }\n",
    "]"
   ]
  },
  {
   "cell_type": "code",
   "execution_count": 8,
   "metadata": {},
   "outputs": [
    {
     "name": "stdout",
     "output_type": "stream",
     "text": [
      "{'hamburger': {'id': 'meal-1', 'name': 'hamburger', 'calories': 600, 'price': 5}, 'cheese burger': {'id': 'meal-2', 'name': 'cheese burger', 'calories': 750, 'price': 7}, 'veggie burger': {'id': 'meal-3', 'name': 'veggie burger', 'calories': 400, 'price': 6}, 'vegan burger': {'id': 'meal-4', 'name': 'vegan burger', 'calories': 350, 'price': 6}, 'sweet potatoes': {'id': 'meal-5', 'name': 'sweet potatoes', 'calories': 230, 'price': 3}, 'salad': {'id': 'meal-6', 'name': 'salad', 'calories': 15, 'price': 4}, 'iced tea': {'id': 'meal-7', 'name': 'iced tea', 'calories': 70, 'price': 2}, 'lemonade': {'id': 'meal-8', 'name': 'lemonade', 'calories': 90, 'price': 2}}\n",
      "{'cheesy combo': {'id': 'combo-1', 'name': 'cheesy combo', 'meals': ['meal-2', 'meal-5', 'meal-8'], 'price': 11}, 'veggie combo': {'id': 'combo-2', 'name': 'veggie combo', 'meals': ['meal-3', 'meal-5', 'meal-7'], 'price': 10}, 'vegan combo': {'id': 'combo-3', 'name': 'vegan combo', 'meals': ['meal-4', 'meal-6', 'meal-8'], 'price': 10}}\n"
     ]
    }
   ],
   "source": [
    "meals2 = {x[\"name\"]: x for x in meals}\n",
    "print(meals2)\n",
    "\n",
    "meals3 = {x[\"id\"]: x for x in meals}\n",
    "\n",
    "combos2 = {x[\"name\"]: x for x in combos}\n",
    "print(combos2)"
   ]
  },
  {
   "cell_type": "code",
   "execution_count": 11,
   "metadata": {},
   "outputs": [
    {
     "name": "stdout",
     "output_type": "stream",
     "text": [
      "1670\n"
     ]
    },
    {
     "data": {
      "text/plain": [
       "1670"
      ]
     },
     "execution_count": 11,
     "metadata": {},
     "output_type": "execute_result"
    }
   ],
   "source": [
    "user_items = input(\"what did you eat\").split(\",\")\n",
    "\n",
    "def cal_counter (items): \n",
    "    tot_cals = 0\n",
    "    for item in items:\n",
    "        item = item.strip()\n",
    "        if item in meals2:\n",
    "            meal_name = meals2[item]\n",
    "            tot_cals += meal_name['calories']\n",
    "            \n",
    "        elif item in combos2:\n",
    "            item = item.strip()\n",
    "            combo_name = combos2[item]\n",
    "            combo_items = combo_name['meals']\n",
    "            for i in combo_items:\n",
    "                i.strip()\n",
    "                if i in meals3:\n",
    "                    combo_tot = meals3[i]\n",
    "                    tot_cals += combo_tot['calories']\n",
    "    return tot_cals\n",
    "\n",
    "            \n",
    "\n",
    "cal_counter (user_items)\n",
    "\n",
    "                "
   ]
  },
  {
   "cell_type": "code",
   "execution_count": null,
   "metadata": {},
   "outputs": [],
   "source": []
  }
 ],
 "metadata": {
  "kernelspec": {
   "display_name": "Python 3",
   "language": "python",
   "name": "python3"
  },
  "language_info": {
   "codemirror_mode": {
    "name": "ipython",
    "version": 3
   },
   "file_extension": ".py",
   "mimetype": "text/x-python",
   "name": "python",
   "nbconvert_exporter": "python",
   "pygments_lexer": "ipython3",
   "version": "3.11.4"
  },
  "orig_nbformat": 4
 },
 "nbformat": 4,
 "nbformat_minor": 2
}
